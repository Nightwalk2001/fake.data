{
 "cells": [
  {
   "cell_type": "code",
   "execution_count": null,
   "outputs": [],
   "source": [
    "import time\n",
    "\n",
    "import pandas as pd\n",
    "from requests_html import HTMLSession\n",
    "from selenium import webdriver\n",
    "from selenium.webdriver.common.by import By\n",
    "from selenium.webdriver.support.ui import WebDriverWait\n",
    "from selenium.webdriver.support import expected_conditions as EC"
   ],
   "metadata": {
    "collapsed": false,
    "pycharm": {
     "name": "#%%\n"
    }
   }
  },
  {
   "cell_type": "code",
   "execution_count": null,
   "outputs": [],
   "source": [
    "base_url = \"https://www.ncbi.nlm.nih.gov\""
   ],
   "metadata": {
    "collapsed": false,
    "pycharm": {
     "name": "#%%\n"
    }
   }
  },
  {
   "cell_type": "code",
   "execution_count": null,
   "outputs": [],
   "source": [
    "driver = webdriver.Chrome(executable_path=\"chromedriver.exe\")\n",
    "driver.get(base_url + \"/gds/?term=aging+cell\")\n",
    "\n",
    "btn = driver.find_elements(By.ID, \"EntrezSystem2.PEntrez.Gds.Gds_ResultsPanel.Gds_DisplayBar.Display\")\n",
    "btn[1].click()\n",
    "p200 = driver.find_element(By.ID, \"ps200\")\n",
    "time.sleep(1)\n",
    "p200.click()"
   ],
   "metadata": {
    "collapsed": false,
    "pycharm": {
     "name": "#%%\n"
    }
   }
  },
  {
   "cell_type": "code",
   "execution_count": null,
   "outputs": [],
   "source": [
    "parts = driver.find_elements(By.CLASS_NAME, \"rprt\")\n",
    "\n",
    "result = []"
   ],
   "metadata": {
    "collapsed": false,
    "pycharm": {
     "name": "#%%\n"
    }
   }
  },
  {
   "cell_type": "code",
   "execution_count": null,
   "outputs": [],
   "source": [
    "for p in parts:\n",
    "\n",
    "    a = p.find_element(By.CSS_SELECTOR, \".title > a\")\n",
    "    href = a.get_attribute(\"href\")\n",
    "    title = a.text\n",
    "    organ = p.find_element(By.CSS_SELECTOR, \".supp dd\").text\n",
    "\n",
    "    driver.execute_script(f\"window.open('{href}', '_blank')\")\n",
    "\n",
    "    driver.switch_to.window(driver.window_handles[-1])\n",
    "    source = driver.page_source\n",
    "    has_raw = source.find(\"Raw data\") != -1\n",
    "\n",
    "    i = source.find(\"sra?term=\")\n",
    "    sra = None\n",
    "    if i != -1:\n",
    "        sra = source[i+9: i+18]\n",
    "\n",
    "    driver.close()\n",
    "    driver.switch_to.window(driver.window_handles[0])\n",
    "\n",
    "    if has_raw:\n",
    "        tmp = {\n",
    "            \"geo_accession\": href.split(\"=\")[1],\n",
    "            \"title\": title,\n",
    "            \"organ\": organ,\n",
    "            \"sra\": sra\n",
    "        }\n",
    "        result.append(tmp)"
   ],
   "metadata": {
    "collapsed": false,
    "pycharm": {
     "name": "#%%\n"
    }
   }
  },
  {
   "cell_type": "code",
   "execution_count": null,
   "outputs": [],
   "source": [
    "df = pd.DataFrame(result)\n",
    "df.to_csv(\"o.csv\")"
   ],
   "metadata": {
    "collapsed": false,
    "pycharm": {
     "name": "#%%\n"
    }
   }
  },
  {
   "cell_type": "code",
   "execution_count": null,
   "outputs": [],
   "source": [
    "session = HTMLSession()\n",
    "def find(addr):\n",
    "    r = session.get(f\"https://ngdc.cncb.ac.cn/search/?dbId=&q={addr}\")\n",
    "    has= True\n",
    "    l =  r.html.find(\"div.ui.bottom.attached.active.tab.segment > p > strong\")\n",
    "    if len(l) >0:\n",
    "        index = l[0].text[0]\n",
    "        if int(index) <=0:\n",
    "            has =False\n",
    "\n",
    "    return  has\n",
    "\n",
    "d = pd.read_csv(\"o.csv\")\n",
    "d[\"ngdc\"] = d[\"geo_accession\"].map(find)"
   ],
   "metadata": {
    "collapsed": false,
    "pycharm": {
     "name": "#%%\n"
    }
   }
  },
  {
   "cell_type": "code",
   "execution_count": null,
   "outputs": [],
   "source": [
    "d.to_csv(\"new.csv\")"
   ],
   "metadata": {
    "collapsed": false,
    "pycharm": {
     "name": "#%%\n"
    }
   }
  },
  {
   "cell_type": "code",
   "execution_count": null,
   "outputs": [],
   "source": [],
   "metadata": {
    "collapsed": false,
    "pycharm": {
     "name": "#%%\n"
    }
   }
  }
 ],
 "metadata": {
  "kernelspec": {
   "display_name": "Python 3",
   "language": "python",
   "name": "python3"
  },
  "language_info": {
   "codemirror_mode": {
    "name": "ipython",
    "version": 2
   },
   "file_extension": ".py",
   "mimetype": "text/x-python",
   "name": "python",
   "nbconvert_exporter": "python",
   "pygments_lexer": "ipython2",
   "version": "2.7.6"
  }
 },
 "nbformat": 4,
 "nbformat_minor": 0
}