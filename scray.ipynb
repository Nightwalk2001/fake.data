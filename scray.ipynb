{
 "cells": [
  {
   "cell_type": "code",
   "execution_count": 99,
   "outputs": [],
   "source": [
    "import pandas as pd\n",
    "from requests_html import HTMLSession\n",
    "\n",
    "base_url = \"https://www.ncbi.nlm.nih.gov\"\n",
    "session = HTMLSession()\n",
    "\n",
    "res = session.get(base_url + \"/gds/?term=aging+cell\")\n",
    "items = res.html.find(\".rsltcont\")"
   ],
   "metadata": {
    "collapsed": false,
    "pycharm": {
     "name": "#%%\n"
    }
   }
  },
  {
   "cell_type": "code",
   "execution_count": null,
   "outputs": [],
   "source": [
    "result = []\n",
    "for i in items:\n",
    "    a = i.find(\".title > a\")[0]\n",
    "    href = a.attrs[\"href\"]\n",
    "    title = a.text\n",
    "    organ = i.find(\".supp dd\")[0].text\n",
    "\n",
    "    r = session.get(base_url + href)\n",
    "    has_raw = r.html.html.find(\"Raw data\") != -1\n",
    "\n",
    "    tmp = {\n",
    "        \"geo_accession\": href.split(\"=\")[1],\n",
    "        \"title\": title,\n",
    "        \"organ\": organ,\n",
    "        \"has_raw_data\": has_raw\n",
    "    }\n",
    "\n",
    "    result.append(tmp)"
   ],
   "metadata": {
    "collapsed": false,
    "pycharm": {
     "name": "#%%\n"
    }
   }
  },
  {
   "cell_type": "code",
   "execution_count": 101,
   "outputs": [],
   "source": [
    "df = pd.DataFrame(result)\n",
    "df.to_excel(\"aging cell.xlsx\")"
   ],
   "metadata": {
    "collapsed": false,
    "pycharm": {
     "name": "#%%\n"
    }
   }
  }
 ],
 "metadata": {
  "kernelspec": {
   "display_name": "Python 3",
   "language": "python",
   "name": "python3"
  },
  "language_info": {
   "codemirror_mode": {
    "name": "ipython",
    "version": 2
   },
   "file_extension": ".py",
   "mimetype": "text/x-python",
   "name": "python",
   "nbconvert_exporter": "python",
   "pygments_lexer": "ipython2",
   "version": "2.7.6"
  }
 },
 "nbformat": 4,
 "nbformat_minor": 0
}