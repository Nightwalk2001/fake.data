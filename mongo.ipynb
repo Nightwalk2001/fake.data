{
 "cells": [
  {
   "cell_type": "code",
   "execution_count": 22,
   "metadata": {
    "collapsed": true
   },
   "outputs": [],
   "source": [
    "import json\n",
    "from datetime import date,datetime\n",
    "from random import randint, random as rnd\n",
    "from json import dump\n",
    "\n",
    "from faker import Faker\n",
    "from pymongo import MongoClient\n",
    "from pypinyin import Style, lazy_pinyin"
   ]
  },
  {
   "cell_type": "code",
   "execution_count": 2,
   "outputs": [],
   "source": [
    "client = MongoClient(host=\"127.0.0.1\", port=27017)"
   ],
   "metadata": {
    "collapsed": false
   }
  },
  {
   "cell_type": "code",
   "execution_count": 5,
   "outputs": [],
   "source": [
    "db = client.get_database(\"fabric\")\n",
    "clothes = db.get_collection(\"clothes\")\n",
    "clients = db.get_collection(\"clients\")\n",
    "bills = db.get_collection(\"bills\")"
   ],
   "metadata": {
    "collapsed": false
   }
  },
  {
   "cell_type": "code",
   "execution_count": 4,
   "outputs": [],
   "source": [
    "cl = []\n",
    "\n",
    "cursor = clothes.find({})\n",
    "\n",
    "for c in cursor:\n",
    "    cl.append(c)\n",
    "\n",
    "\n",
    "with open(\"o.json\", \"w\") as f:\n",
    "    json.dump(cl, f,ensure_ascii=False)\n"
   ],
   "metadata": {
    "collapsed": false
   }
  },
  {
   "cell_type": "code",
   "execution_count": 4,
   "outputs": [],
   "source": [
    "faker = Faker(locale=\"zh_CN\")"
   ],
   "metadata": {
    "collapsed": false
   }
  },
  {
   "cell_type": "code",
   "execution_count": 12,
   "outputs": [],
   "source": [
    "l = []\n",
    "\n",
    "for _ in range(100):\n",
    "    name = faker.name()\n",
    "    py = \" \".join(lazy_pinyin(name, style=Style.NORMAL))\n",
    "\n",
    "    random = {\n",
    "        \"_id\": name,\n",
    "        \"pinyin\": py,\n",
    "        \"phone\": faker.phone_number(),\n",
    "        \"address\": faker.address()[6:],\n",
    "        \"temp\": True\n",
    "    }\n",
    "    l.append(random)"
   ],
   "metadata": {
    "collapsed": false
   }
  },
  {
   "cell_type": "code",
   "execution_count": 14,
   "outputs": [],
   "source": [
    "color_list = [\n",
    "    \"水绿\", \"湖蓝\", \"鱼肚白\", \"灰色\", \"铜绿\",\n",
    "    \"银白\", \"赤金\", \"荼白\", \"丁香色\", \"大红\",\n",
    "    \"茜色\", \"洋红\", \"酡红\", \"橘黄\", \"姜黄\", \"栗色\",\n",
    "    \"绾\", \"酡颜\", \"鹅黄\", \"黄栌\", \"碧色\", \"翡翠色\",\n",
    "    \"鸭卵青\", \"蟹壳青\", \"鸦青\", \"艾绿\", \"松花色\",\n",
    "    \"碧蓝\", \"黛螺\", \"藕荷色\", \"莹白\", \"缃色\"\n",
    "]"
   ],
   "metadata": {
    "collapsed": false
   }
  },
  {
   "cell_type": "code",
   "execution_count": 16,
   "outputs": [
    {
     "data": {
      "text/plain": "<pymongo.results.InsertManyResult at 0x20e42133f70>"
     },
     "execution_count": 16,
     "metadata": {},
     "output_type": "execute_result"
    }
   ],
   "source": [
    "cloth_list = [\n",
    "    \"麻\", \"桑蚕丝\", \"粘胶\", \"醋酯纤维\", \"涤纶\",\n",
    "    \"锦纶\", \"丙纶\", \"氨纶\", \"夏布\", \"交织麻织物\",\n",
    "    \"派力司\", \"华达呢\", \"薄花呢\", \"松轻毛织物\",\n",
    "    \"麦尔登\", \"长毛绒\", \"平布\", \"细布\", \"府绸\",\n",
    "    \"巴百纱\", \"卡其\", \"贡缎\", \"绉布\", \"牛津布\",\n",
    "    \"丹宁\", \"灯芯绒\", \"绒布\", \"山羊绒\", \"兔毛\",\n",
    "    \"马海毛\", \"骆驼毛绒\", \"精纺毛织物\", \"粗纺毛织物\",\n",
    "    \"缎\", \"麻棉混纺\", \"涤麻混纺\", \"进口长绒棉\",\n",
    "    \"绢丝\", \"真丝\", \"天丝\", \"丝光棉纱线\", \"竹纤维\",\n",
    "    \"腈纶\", \"丝光羊毛\", \"毛粘混纺\", \"天丝、亚麻混纺\",\n",
    "    \"涤棉混纺\", \"涤绢混纺\", \"涤粘华达呢\"\n",
    "]\n",
    "unit_list = [\"米\", \"卷\", \"匹\", \"公斤\", \"码\"]\n",
    "\n",
    "c = []\n",
    "\n",
    "for i in range(300):\n",
    "    idx1 = i % len(color_list)\n",
    "    idx2 = i % len(cloth_list)\n",
    "    idx3 = i % len(unit_list)\n",
    "    name = color_list[idx1] + cloth_list[idx2]\n",
    "    py = \" \".join(lazy_pinyin(name))\n",
    "    tmp = {\n",
    "        \"_id\": name,\n",
    "        \"pinyin\": py,\n",
    "        \"color\": color_list[idx1],\n",
    "        \"unit\": unit_list[idx3],\n",
    "        \"temp\": True\n",
    "    }\n",
    "\n",
    "    c.append(tmp)\n",
    "\n",
    "clothes.drop()\n",
    "clothes.insert_many(c)"
   ],
   "metadata": {
    "collapsed": false
   }
  },
  {
   "cell_type": "code",
   "execution_count": 17,
   "outputs": [],
   "source": [
    "clerks = [\n",
    "    \"唐思粤\", \"朱之杰\", \"宏大\",\n",
    "    \"测试店员1\", \"测试店员2\", \"测试店员3\",\n",
    "    \"测试店员4\", \"测试店员5\", \"测试店员6\"\n",
    "]\n",
    "client_list = clients.find()\n",
    "client_list = list(map(lambda x: x[\"_id\"], list(client_list)))\n",
    "cloth_list = list(clothes.find())"
   ],
   "metadata": {
    "collapsed": false
   }
  },
  {
   "cell_type": "code",
   "execution_count": 23,
   "outputs": [],
   "source": [
    "b = []\n",
    "dm = {}\n",
    "\n",
    "def format_id(s):\n",
    "    if s <10:\n",
    "        return f\"00{s}\"\n",
    "    elif s < 100:\n",
    "        return  f\"0{s}\"\n",
    "    else:\n",
    "        return  str(s)\n",
    "\n",
    "\n",
    "start = date(2022, 1, 1)\n",
    "for i in range(40000):\n",
    "    t = faker.date_time_between(start_date=start)\n",
    "    d = faker.date_between(start_date=start,end_date=t)\n",
    "    d = d.strftime(\"%Y%m%d\")\n",
    "    t = t.timestamp()*1000\n",
    "    if d in dm.keys():\n",
    "        dm[d] += 1\n",
    "    else:\n",
    "        dm[d] = 1\n",
    "    _id = d + format_id(dm[d])\n",
    "\n",
    "    count = faker.random_digit()\n",
    "    if count <=0:\n",
    "        continue\n",
    "\n",
    "    items = []\n",
    "    total = 0\n",
    "    for _ in range(count):\n",
    "        tmp = cloth_list[randint(0, len(cloth_list) -1)]\n",
    "        price = randint(1, 120)\n",
    "        c = faker.random_digit()\n",
    "        total += price * c\n",
    "        items.append( {\n",
    "                \"name\": tmp[\"_id\"],\n",
    "                \"color\": color_list[randint(0, len(color_list) -1)],\n",
    "                \"unit\": tmp[\"unit\"],\n",
    "                \"count\": c,\n",
    "                \"price\": price,\n",
    "                \"money\": round(c * price)\n",
    "            })\n",
    "\n",
    "    b.append({\n",
    "        \"_id\": _id,\n",
    "        \"date\": d,\n",
    "        \"clerk\": clerks[randint(0, len(clerks) - 1)],\n",
    "        \"client\": client_list[randint(0, len(client_list) - 1)],\n",
    "        \"items\": items,\n",
    "        \"money\": round(total),\n",
    "        \"received\": round(total * rnd()),\n",
    "        \"isReturn\": False,\n",
    "        \"createAt\": t,\n",
    "        \"temp\": True\n",
    "    })"
   ],
   "metadata": {
    "collapsed": false
   }
  },
  {
   "cell_type": "code",
   "execution_count": 24,
   "outputs": [
    {
     "data": {
      "text/plain": "<pymongo.results.InsertManyResult at 0x20e423dc460>"
     },
     "execution_count": 24,
     "metadata": {},
     "output_type": "execute_result"
    }
   ],
   "source": [
    "bills.drop()\n",
    "bills.insert_many(b)"
   ],
   "metadata": {
    "collapsed": false
   }
  },
  {
   "cell_type": "code",
   "execution_count": 9,
   "outputs": [
    {
     "data": {
      "text/plain": "datetime.datetime(1991, 5, 18, 3, 23, 9)"
     },
     "execution_count": 9,
     "metadata": {},
     "output_type": "execute_result"
    }
   ],
   "source": [
    "d =faker.date_time()\n",
    "d"
   ],
   "metadata": {
    "collapsed": false
   }
  },
  {
   "cell_type": "code",
   "execution_count": 10,
   "outputs": [
    {
     "data": {
      "text/plain": "674508189.0"
     },
     "execution_count": 10,
     "metadata": {},
     "output_type": "execute_result"
    }
   ],
   "source": [
    "d.timestamp()"
   ],
   "metadata": {
    "collapsed": false
   }
  },
  {
   "cell_type": "code",
   "execution_count": null,
   "outputs": [],
   "source": [],
   "metadata": {
    "collapsed": false
   }
  }
 ],
 "metadata": {
  "kernelspec": {
   "display_name": "Python 3",
   "language": "python",
   "name": "python3"
  },
  "language_info": {
   "codemirror_mode": {
    "name": "ipython",
    "version": 2
   },
   "file_extension": ".py",
   "mimetype": "text/x-python",
   "name": "python",
   "nbconvert_exporter": "python",
   "pygments_lexer": "ipython2",
   "version": "2.7.6"
  }
 },
 "nbformat": 4,
 "nbformat_minor": 0
}
