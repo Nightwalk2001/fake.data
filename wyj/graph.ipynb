{
 "cells": [
  {
   "cell_type": "code",
   "execution_count": 34,
   "metadata": {
    "collapsed": true
   },
   "outputs": [],
   "source": [
    "import pandas as pd\n",
    "from json import dump"
   ]
  },
  {
   "cell_type": "code",
   "execution_count": null,
   "outputs": [],
   "source": [
    "adipose = pd.read_csv(\"Adipose.csv\", nrows=50)"
   ],
   "metadata": {
    "collapsed": false
   }
  },
  {
   "cell_type": "code",
   "execution_count": null,
   "outputs": [],
   "source": [
    "keys = adipose.keys().tolist()\n",
    "mkeys = []\n",
    "\n",
    "for i in keys:\n",
    "    mkeys.append(i[:9])"
   ],
   "metadata": {
    "collapsed": false
   }
  },
  {
   "cell_type": "code",
   "execution_count": 23,
   "outputs": [],
   "source": [
    "v7 = pd.read_csv(\"gtexSampleV7.csv\")\n",
    "v8 = pd.read_table(\"GTEx_Analysis_v8_Annotations_SubjectPhenotypesDS.txt\")\n",
    "list7 = v7.donor.tolist()\n",
    "ages7 = v7.AGE.tolist()\n",
    "list8 = v8.SUBJID.tolist()"
   ],
   "metadata": {
    "collapsed": false
   }
  },
  {
   "cell_type": "code",
   "execution_count": 32,
   "outputs": [],
   "source": [
    "res = {\n",
    "    \"20s\": [],\n",
    "    \"30s\": [],\n",
    "    \"40s\": [],\n",
    "    \"50s\": [],\n",
    "    \"60s\": [],\n",
    "    \"70s\": [],\n",
    "}\n",
    "\n",
    "for i in range(len(mkeys)):\n",
    "    v = mkeys[i]\n",
    "    try:\n",
    "        idx = list7.index(v)\n",
    "        col = adipose[keys[i]]\n",
    "        age = ages7[idx]\n",
    "\n",
    "        m = col.mean()\n",
    "        if age > 70:\n",
    "            res[\"70s\"].append(m)\n",
    "        elif age > 60:\n",
    "            res[\"60s\"].append(m)\n",
    "        elif age > 50:\n",
    "            res[\"50s\"].append(m)\n",
    "        elif age > 40:\n",
    "            res[\"40s\"].append(m)\n",
    "        elif age > 30:\n",
    "            res[\"30s\"].append(m)\n",
    "        else:\n",
    "            res[\"20s\"].append(m)\n",
    "    except IndexError as e :\n",
    "        continue"
   ],
   "metadata": {
    "collapsed": false
   }
  },
  {
   "cell_type": "code",
   "execution_count": 35,
   "outputs": [],
   "source": [
    "with open(\"res.json\",\"w\") as fout:\n",
    "    dump(res,fout)"
   ],
   "metadata": {
    "collapsed": false
   }
  },
  {
   "cell_type": "code",
   "execution_count": null,
   "outputs": [],
   "source": [],
   "metadata": {
    "collapsed": false
   }
  }
 ],
 "metadata": {
  "kernelspec": {
   "display_name": "Python 3",
   "language": "python",
   "name": "python3"
  },
  "language_info": {
   "codemirror_mode": {
    "name": "ipython",
    "version": 2
   },
   "file_extension": ".py",
   "mimetype": "text/x-python",
   "name": "python",
   "nbconvert_exporter": "python",
   "pygments_lexer": "ipython2",
   "version": "2.7.6"
  }
 },
 "nbformat": 4,
 "nbformat_minor": 0
}
