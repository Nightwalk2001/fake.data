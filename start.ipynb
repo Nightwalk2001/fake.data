{
 "cells": [
  {
   "cell_type": "code",
   "execution_count": null,
   "metadata": {
    "collapsed": true
   },
   "outputs": [],
   "source": [
    "import pandas as pd\n",
    "import numpy as np"
   ]
  },
  {
   "cell_type": "code",
   "execution_count": 8,
   "outputs": [],
   "source": [
    "df = pd.read_csv(\"wyj/gtexSampleV7.csv\")"
   ],
   "metadata": {
    "collapsed": false
   }
  },
  {
   "cell_type": "code",
   "execution_count": 9,
   "outputs": [
    {
     "data": {
      "text/plain": "            organ         tissue             description       donor  \\\n0  Adipose Tissue  adiposeSubcut  Adipose - Subcutaneous  GTEX-15CHQ   \n1  Adipose Tissue  adiposeSubcut  Adipose - Subcutaneous  GTEX-14BMV   \n2  Adipose Tissue  adiposeSubcut  Adipose - Subcutaneous   GTEX-R55G   \n3  Adipose Tissue  adiposeSubcut  Adipose - Subcutaneous  GTEX-11P81   \n4  Adipose Tissue  adiposeSubcut  Adipose - Subcutaneous  GTEX-14E6C   \n\n                     sample  SEX-1  AGE  \n0  GTEX-15CHQ-0226-SM-6EU2S      1   69  \n1  GTEX-14BMV-0226-SM-5S2N2      1   53  \n2   GTEX-R55G-2426-SM-2TC5I      2   43  \n3  GTEX-11P81-2426-SM-5GU65      2   31  \n4  GTEX-14E6C-0226-SM-5S2N3      1   48  ",
      "text/html": "<div>\n<style scoped>\n    .dataframe tbody tr th:only-of-type {\n        vertical-align: middle;\n    }\n\n    .dataframe tbody tr th {\n        vertical-align: top;\n    }\n\n    .dataframe thead th {\n        text-align: right;\n    }\n</style>\n<table border=\"1\" class=\"dataframe\">\n  <thead>\n    <tr style=\"text-align: right;\">\n      <th></th>\n      <th>organ</th>\n      <th>tissue</th>\n      <th>description</th>\n      <th>donor</th>\n      <th>sample</th>\n      <th>SEX-1</th>\n      <th>AGE</th>\n    </tr>\n  </thead>\n  <tbody>\n    <tr>\n      <th>0</th>\n      <td>Adipose Tissue</td>\n      <td>adiposeSubcut</td>\n      <td>Adipose - Subcutaneous</td>\n      <td>GTEX-15CHQ</td>\n      <td>GTEX-15CHQ-0226-SM-6EU2S</td>\n      <td>1</td>\n      <td>69</td>\n    </tr>\n    <tr>\n      <th>1</th>\n      <td>Adipose Tissue</td>\n      <td>adiposeSubcut</td>\n      <td>Adipose - Subcutaneous</td>\n      <td>GTEX-14BMV</td>\n      <td>GTEX-14BMV-0226-SM-5S2N2</td>\n      <td>1</td>\n      <td>53</td>\n    </tr>\n    <tr>\n      <th>2</th>\n      <td>Adipose Tissue</td>\n      <td>adiposeSubcut</td>\n      <td>Adipose - Subcutaneous</td>\n      <td>GTEX-R55G</td>\n      <td>GTEX-R55G-2426-SM-2TC5I</td>\n      <td>2</td>\n      <td>43</td>\n    </tr>\n    <tr>\n      <th>3</th>\n      <td>Adipose Tissue</td>\n      <td>adiposeSubcut</td>\n      <td>Adipose - Subcutaneous</td>\n      <td>GTEX-11P81</td>\n      <td>GTEX-11P81-2426-SM-5GU65</td>\n      <td>2</td>\n      <td>31</td>\n    </tr>\n    <tr>\n      <th>4</th>\n      <td>Adipose Tissue</td>\n      <td>adiposeSubcut</td>\n      <td>Adipose - Subcutaneous</td>\n      <td>GTEX-14E6C</td>\n      <td>GTEX-14E6C-0226-SM-5S2N3</td>\n      <td>1</td>\n      <td>48</td>\n    </tr>\n  </tbody>\n</table>\n</div>"
     },
     "execution_count": 9,
     "metadata": {},
     "output_type": "execute_result"
    }
   ],
   "source": [
    "df.head()"
   ],
   "metadata": {
    "collapsed": false
   }
  },
  {
   "cell_type": "code",
   "execution_count": 16,
   "outputs": [
    {
     "data": {
      "text/plain": "pandas.core.series.Series"
     },
     "execution_count": 16,
     "metadata": {},
     "output_type": "execute_result"
    }
   ],
   "source": [],
   "metadata": {
    "collapsed": false
   }
  },
  {
   "cell_type": "code",
   "execution_count": null,
   "outputs": [],
   "source": [
    "y = df.pop(\"AGE\")\n",
    "y"
   ],
   "metadata": {
    "collapsed": false
   }
  },
  {
   "cell_type": "code",
   "execution_count": null,
   "outputs": [],
   "source": [
    "df"
   ],
   "metadata": {
    "collapsed": false
   }
  },
  {
   "cell_type": "code",
   "execution_count": null,
   "outputs": [],
   "source": [],
   "metadata": {
    "collapsed": false
   }
  }
 ],
 "metadata": {
  "kernelspec": {
   "display_name": "Python 3",
   "language": "python",
   "name": "python3"
  },
  "language_info": {
   "codemirror_mode": {
    "name": "ipython",
    "version": 2
   },
   "file_extension": ".py",
   "mimetype": "text/x-python",
   "name": "python",
   "nbconvert_exporter": "python",
   "pygments_lexer": "ipython2",
   "version": "2.7.6"
  }
 },
 "nbformat": 4,
 "nbformat_minor": 0
}
